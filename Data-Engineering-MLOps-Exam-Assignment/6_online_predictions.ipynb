{
 "cells": [
  {
   "cell_type": "markdown",
   "metadata": {},
   "source": [
    "# Online Production"
   ]
  },
  {
   "cell_type": "code",
   "execution_count": 1,
   "metadata": {},
   "outputs": [],
   "source": [
    "#!pip install -U hopsworks --quiet"
   ]
  },
  {
   "cell_type": "code",
   "execution_count": 2,
   "metadata": {},
   "outputs": [],
   "source": [
    "import warnings\n",
    "warnings.filterwarnings(\"ignore\")"
   ]
  },
  {
   "cell_type": "code",
   "execution_count": 3,
   "metadata": {},
   "outputs": [
    {
     "name": "stdout",
     "output_type": "stream",
     "text": [
      "Connected. Call `.close()` to terminate connection gracefully.\n",
      "\n",
      "Logged in to project, explore it here https://c.app.hopsworks.ai:443/p/716948\n",
      "2024-05-13 18:00:09,935 WARNING: using legacy validation callback\n"
     ]
    },
    {
     "name": "stderr",
     "output_type": "stream",
     "text": [
      "DeprecationWarning: The 'warn' method is deprecated, use 'warning' instead\n"
     ]
    },
    {
     "name": "stdout",
     "output_type": "stream",
     "text": [
      "Connected. Call `.close()` to terminate connection gracefully.\n",
      "Connected. Call `.close()` to terminate connection gracefully.\n"
     ]
    }
   ],
   "source": [
    "import hopsworks\n",
    "\n",
    "project = hopsworks.login()\n",
    "\n",
    "fs = project.get_feature_store()\n",
    "ms = project.get_model_serving()\n"
   ]
  },
  {
   "cell_type": "code",
   "execution_count": 4,
   "metadata": {},
   "outputs": [
    {
     "name": "stdout",
     "output_type": "stream",
     "text": [
      "Deployment is already running\n"
     ]
    }
   ],
   "source": [
    "# Fetch Model from Hopsworks Model Registry\n",
    "deployment = ms.get_deployment(name=\"beerratingmodeldeployment1\")\n",
    "deployment.start()"
   ]
  },
  {
   "cell_type": "markdown",
   "metadata": {},
   "source": [
    "## 🚀 Send an Inference Request"
   ]
  },
  {
   "cell_type": "code",
   "execution_count": 5,
   "metadata": {},
   "outputs": [],
   "source": [
    "# Send inference requests to the deployed model as follows:\n",
    "feature_view = fs.get_feature_view(\"user_beer_feature_view\", 1)"
   ]
  },
  {
   "cell_type": "code",
   "execution_count": 6,
   "metadata": {},
   "outputs": [
    {
     "name": "stdout",
     "output_type": "stream",
     "text": [
      "2024-05-13 18:00:19,438 INFO: Default Online Store Client is set to sql.\n",
      "2024-05-13 18:00:20,978 INFO: Initialising Vector Server Online SQL client\n",
      "2024-05-13 18:00:26,330 INFO: Default Online Store Client is set to sql.\n",
      "2024-05-13 18:00:27,653 INFO: Initialising Vector Server Online SQL client\n"
     ]
    }
   ],
   "source": [
    "# Initialize serving\n",
    "feature_view.init_serving(1)    "
   ]
  },
  {
   "cell_type": "code",
   "execution_count": 12,
   "metadata": {},
   "outputs": [
    {
     "name": "stdout",
     "output_type": "stream",
     "text": [
      "  beer_name                           beer_beerid  beer_brewerid  beer_abv  \\\n",
      "0      onto  b20ef6dd-851a-4747-b39b-d09f16d72400           1300       6.6   \n",
      "1      left  44692c88-8fce-44c5-8d5f-2e44e36cad24           1590       7.8   \n",
      "2      left  44692c88-8fce-44c5-8d5f-2e44e36cad24           1590       7.8   \n",
      "3    theory  a21c1ff8-f53e-445e-8ca3-cb51474b4761           9620      10.7   \n",
      "4    season  8c4e408f-a895-40e9-bfd7-95802f07144d           8358       5.4   \n",
      "\n",
      "  beer_style  review_appearance  review_aroma  review_palate  review_taste  \\\n",
      "0      Stout                  8             6              9             6   \n",
      "1      Lager                  1             9              5             6   \n",
      "2      Lager                  6             2              9             7   \n",
      "3        IPA                  9             7              8             8   \n",
      "4      Lager                  9             2              1             6   \n",
      "\n",
      "   review_overall          review_time review_profilename  \\\n",
      "0               5  2024-05-01 00:34:50          sstephens   \n",
      "1               6  2024-03-23 02:56:22            bryan95   \n",
      "2               7  2024-04-30 11:23:33          oespinoza   \n",
      "3               6  2024-02-29 23:53:50            bryan95   \n",
      "4               3  2024-01-14 12:03:52       davidfleming   \n",
      "\n",
      "                                         review_text  \n",
      "0  \\n\\nAppearance: The Stout pours a deep, dark b...  \n",
      "1  \\n\\nAppearance: The lager pours a deep golden ...  \n",
      "2  \\n\\nAppearance: The lager pours a deep golden ...  \n",
      "3  \\n\\nAppearance: The IPA pours a deep golden co...  \n",
      "4  \\n\\nAppearance: The lager pours a crystal clea...  \n"
     ]
    }
   ],
   "source": [
    "import pandas as pd\n",
    "\n",
    "#Load the simulatede data, stored as reviews.csv\n",
    "reviews_df = pd.read_csv(\"reviews.csv\")\n",
    "\n",
    "# Inspect the first few rows of the DataFrame\n",
    "print(reviews_df.head())"
   ]
  },
  {
   "cell_type": "code",
   "execution_count": 15,
   "metadata": {},
   "outputs": [],
   "source": [
    "# Group the data by beer ID and calculate aggregate statistics\n",
    "aggregated_df = reviews_df.groupby(\"beer_beerid\").agg({\n",
    "    \"beer_brewerid\": \"first\",  # Brewer ID remains the same\n",
    "    \"beer_abv\": \"first\",        # ABV remains the same\n",
    "    \"review_appearance\": \"mean\",\n",
    "    \"review_aroma\": \"mean\",\n",
    "    \"review_palate\": \"mean\",\n",
    "    \"review_taste\": \"mean\",\n",
    "    \"review_overall\": \"mean\",\n",
    "    # Count the number of reviews\n",
    "    \"beer_name\": \"size\"  # Use any existing column to count the rows\n",
    "}).reset_index()\n",
    "\n",
    "# Rename the columns to match the model schema\n",
    "renamed_columns = {\n",
    "    \"beer_brewerid\": \"beer_brewerid\",\n",
    "    \"beer_abv\": \"beer_abv\",\n",
    "    \"review_appearance\": \"avg_appearance\",\n",
    "    \"review_aroma\": \"avg_aroma\",\n",
    "    \"review_palate\": \"avg_palate\",\n",
    "    \"review_taste\": \"avg_taste\",\n",
    "    \"review_overall\": \"avg_overall\",\n",
    "    \"beer_name\": \"review_count\"  # Rename the column to \"review_count\"\n",
    "}\n",
    "\n",
    "aggregated_df.rename(columns=renamed_columns, inplace=True)"
   ]
  },
  {
   "cell_type": "code",
   "execution_count": 21,
   "metadata": {},
   "outputs": [
    {
     "name": "stdout",
     "output_type": "stream",
     "text": [
      "Prediction for beer ID 318599ab-4f9b-4139-ae50-087695148ed7: {'predictions': [7.160097122192383]}\n",
      "Prediction for beer ID 44692c88-8fce-44c5-8d5f-2e44e36cad24: {'predictions': [10.07424259185791]}\n",
      "Prediction for beer ID 8c4e408f-a895-40e9-bfd7-95802f07144d: {'predictions': [7.372037410736084]}\n",
      "Prediction for beer ID a21c1ff8-f53e-445e-8ca3-cb51474b4761: {'predictions': [5.650432109832764]}\n",
      "Prediction for beer ID b20ef6dd-851a-4747-b39b-d09f16d72400: {'predictions': [6.734586715698242]}\n",
      "Prediction for beer ID d8c01959-32bd-4e09-b0ed-2ada6f4141e4: {'predictions': [9.87358570098877]}\n"
     ]
    }
   ],
   "source": [
    "for index, row in aggregated_df.iterrows():\n",
    "    # Extract relevant features from the row\n",
    "    beer_brewerid = row['beer_brewerid']\n",
    "    beer_abv = row['beer_abv']\n",
    "    review_appearance = row['avg_appearance']  # Use the aggregated mean value\n",
    "    review_aroma = row['avg_aroma']            # Use the aggregated mean value\n",
    "    review_palate = row['avg_palate']          # Use the aggregated mean value\n",
    "    review_taste = row['avg_taste']            # Use the aggregated mean value\n",
    "    review_overall = row['avg_overall']        # Use the aggregated mean value\n",
    "    avg_aroma = row['avg_aroma']              # Use the aggregated mean value\n",
    "    avg_palate = row['avg_palate']            # Use the aggregated mean value\n",
    "    avg_taste = row['avg_taste']              # Use the aggregated mean value\n",
    "    avg_appearance = row['avg_appearance']    # Use the aggregated mean value\n",
    "    review_count = row['review_count']         # Use the aggregated count value\n",
    "    \n",
    "    # Prepare input data in the format expected by the model serving engine\n",
    "    input_data = [\n",
    "        [\n",
    "            beer_brewerid,\n",
    "            beer_abv,\n",
    "            review_appearance,\n",
    "            review_aroma,\n",
    "            review_palate,\n",
    "            review_taste,\n",
    "            review_overall,\n",
    "            avg_aroma,\n",
    "            avg_palate,\n",
    "            avg_taste,\n",
    "            avg_appearance,\n",
    "            review_count\n",
    "        ]\n",
    "    ]\n",
    "    \n",
    "    # Send inference request to the deployed model\n",
    "    prediction = deployment.predict(inputs=input_data)\n",
    "    \n",
    "    # Process or store the prediction as needed\n",
    "    # For example, you could print the prediction\n",
    "    print(f\"Prediction for beer ID {row['beer_beerid']}: {prediction}\")"
   ]
  }
 ],
 "metadata": {
  "kernelspec": {
   "display_name": "MLOPS",
   "language": "python",
   "name": "python3"
  },
  "language_info": {
   "codemirror_mode": {
    "name": "ipython",
    "version": 3
   },
   "file_extension": ".py",
   "mimetype": "text/x-python",
   "name": "python",
   "nbconvert_exporter": "python",
   "pygments_lexer": "ipython3",
   "version": "3.12.2"
  }
 },
 "nbformat": 4,
 "nbformat_minor": 2
}
